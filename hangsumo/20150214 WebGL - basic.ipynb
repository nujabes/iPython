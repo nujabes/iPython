{
 "metadata": {
  "name": "",
  "signature": "sha256:d9b18bd67ccc31d7e0a8aca5a4ae7e3bbee25e82ac845045e0d2688e454ef8bf"
 },
 "nbformat": 3,
 "nbformat_minor": 0,
 "worksheets": [
  {
   "cells": [
    {
     "cell_type": "code",
     "collapsed": false,
     "input": [
      "%%html\n",
      "<canvas id=\"ex1\"></canvas>\n",
      "<script>\n",
      "var g = document.querySelector('#ex1').getContext('2d');\n",
      "g.canvas.width = 200;\n",
      "g.canvas.height = 200;\n",
      "\n",
      "g.fillStyle = 'yellow';\n",
      "g.fillRect(0, 0, g.canvas.width, g.canvas.height);\n",
      "</script>"
     ],
     "language": "python",
     "metadata": {},
     "outputs": [
      {
       "html": [
        "<canvas id=\"ex1\"></canvas>\n",
        "<script>\n",
        "var g = document.querySelector('#ex1').getContext('2d');\n",
        "g.canvas.width = 200;\n",
        "g.canvas.height = 200;\n",
        "\n",
        "g.fillStyle = 'yellow';\n",
        "g.fillRect(0, 0, g.canvas.width, g.canvas.height);\n",
        "</script>"
       ],
       "metadata": {},
       "output_type": "display_data",
       "text": [
        "<IPython.core.display.HTML at 0x10913c5d0>"
       ]
      }
     ],
     "prompt_number": 20
    },
    {
     "cell_type": "code",
     "collapsed": false,
     "input": [
      "%%html\n",
      "<canvas id=\"ex2\"></canvas>\n",
      "<script>\n",
      "var g = document.querySelector('#ex2').getContext('2d');\n",
      "g.canvas.width = 200;\n",
      "g.canvas.height = 200;\n",
      "\n",
      "var im = g.getImageData(0, 0, g.canvas.width, g.canvas.height);\n",
      "var render = function(){\n",
      "    for(var iy = 0; iy < g.canvas.height; iy++){\n",
      "        for(var ix = 0; ix < g.canvas.width; ix++){\n",
      "            var i = iy * g.canvas.width + ix;\n",
      "            im.data[4*i+0] = 255;\n",
      "            im.data[4*i+1] = 0;\n",
      "            im.data[4*i+2] = 0;\n",
      "            im.data[4*i+3] = 255;\n",
      "        }\n",
      "    }\n",
      "    g.putImageData(im, 0, 0);\n",
      "}\n",
      "render();\n",
      "</script>"
     ],
     "language": "python",
     "metadata": {},
     "outputs": [
      {
       "html": [
        "<canvas id=\"ex2\"></canvas>\n",
        "<script>\n",
        "var g = document.querySelector('#ex2').getContext('2d');\n",
        "g.canvas.width = 200;\n",
        "g.canvas.height = 200;\n",
        "\n",
        "//g.fillStyle = 'yellow';\n",
        "//g.fillRect(0, 0, g.canvas.width, g.canvas.height);\n",
        "var im = g.getImageData(0, 0, g.canvas.width, g.canvas.height);\n",
        "var render = function(){\n",
        "    for(var iy = 0; iy < g.canvas.height; iy++){\n",
        "        for(var ix = 0; ix < g.canvas.width; ix++){\n",
        "            var i = iy * g.canvas.width + ix;\n",
        "            im.data[4*i+0] = 255;\n",
        "            im.data[4*i+1] = 0;\n",
        "            im.data[4*i+2] = 0;\n",
        "            im.data[4*i+3] = 255;\n",
        "        }\n",
        "    }\n",
        "    g.putImageData(im, 0, 0);\n",
        "}\n",
        "render();\n",
        "</script>"
       ],
       "metadata": {},
       "output_type": "display_data",
       "text": [
        "<IPython.core.display.HTML at 0x10913cad0>"
       ]
      }
     ],
     "prompt_number": 19
    },
    {
     "cell_type": "code",
     "collapsed": false,
     "input": [
      "%%html\n",
      "<canvas id=\"ex3\"></canvas>\n",
      "<script>\n",
      "var g = document.querySelector('#ex3').getContext('2d');\n",
      "g.canvas.width = 200;\n",
      "g.canvas.height = 200;\n",
      "\n",
      "var im = g.getImageData(0, 0, g.canvas.width, g.canvas.height);\n",
      "var render = function(){\n",
      "    for(var iy = 0; iy < g.canvas.height; iy++){\n",
      "        var fy = iy / (g.canvas.height - 1);\n",
      "        for(var ix = 0; ix < g.canvas.width; ix++){\n",
      "            var i = iy * g.canvas.width + ix;\n",
      "            var fx = ix / (g.canvas.width - 1);\n",
      "                im.data[4*i+0] = Math.floor(255 * Math.sin(fx * Math.PI * 12));\n",
      "                im.data[4*i+1] = 0;\n",
      "                im.data[4*i+2] = 0;\n",
      "                im.data[4*i+3] = 255;\n",
      "            }\n",
      "        }\n",
      "        g.putImageData(im, 0, 0);\n",
      "    }\n",
      "render();\n",
      "</script>"
     ],
     "language": "python",
     "metadata": {},
     "outputs": [
      {
       "html": [
        "<canvas id=\"ex3\"></canvas>\n",
        "<script>\n",
        "var g = document.querySelector('#ex3').getContext('2d');\n",
        "g.canvas.width = 200;\n",
        "g.canvas.height = 200;\n",
        "\n",
        "//g.fillStyle = 'yellow';\n",
        "//g.fillRect(0, 0, g.canvas.width, g.canvas.height);\n",
        "var im = g.getImageData(0, 0, g.canvas.width, g.canvas.height);\n",
        "var render = function(){\n",
        "    for(var iy = 0; iy < g.canvas.height; iy++){\n",
        "        var fy = iy / (g.canvas.height - 1);\n",
        "        for(var ix = 0; ix < g.canvas.width; ix++){\n",
        "            var i = iy * g.canvas.width + ix;\n",
        "            var fx = ix / (g.canvas.width - 1);\n",
        "                im.data[4*i+0] = Math.floor(255 * Math.sin(fx * Math.PI * 12));\n",
        "                im.data[4*i+1] = 0;\n",
        "                im.data[4*i+2] = 0;\n",
        "                im.data[4*i+3] = 255;\n",
        "            }\n",
        "        }\n",
        "        g.putImageData(im, 0, 0);\n",
        "    }\n",
        "render();\n",
        "</script>"
       ],
       "metadata": {},
       "output_type": "display_data",
       "text": [
        "<IPython.core.display.HTML at 0x109153ed0>"
       ]
      }
     ],
     "prompt_number": 36
    },
    {
     "cell_type": "markdown",
     "metadata": {},
     "source": [
      "# SHADING LANGUAGE"
     ]
    },
    {
     "cell_type": "code",
     "collapsed": false,
     "input": [
      "%%html\n",
      "<canvas id=\"ex4\"></canvas>\n",
      "<script>\n",
      "var g = document.querySelector('#ex4').getContext('2d');\n",
      "g.canvas.width = 200;\n",
      "g.canvas.height = 200;\n",
      "\n",
      "var im = g.getImageData(0, 0, g.canvas.width, g.canvas.height);\n",
      "\n",
      "var shader = function(x, y){\n",
      "    return Math.sin(x * Math.PI * 5);\n",
      "}\n",
      "\n",
      "var render = function(){\n",
      "    for(var iy = 0; iy < g.canvas.height; iy++){\n",
      "        var fy = iy / (g.canvas.height - 1);\n",
      "        for(var ix = 0; ix < g.canvas.width; ix++){\n",
      "            var i = iy * g.canvas.width + ix;\n",
      "            var fx = ix / (g.canvas.width - 1);\n",
      "            var c = shader(fx, fy);\n",
      "            im.data[4*i+0] = Math.floor(255 * c);\n",
      "            im.data[4*i+1] = Math.floor(255 * c);\n",
      "            im.data[4*i+2] = Math.floor(255 * c);\n",
      "            im.data[4*i+3] = 255;\n",
      "        }\n",
      "    }\n",
      "    g.putImageData(im, 0, 0);\n",
      "}\n",
      "render();\n",
      "</script>"
     ],
     "language": "python",
     "metadata": {},
     "outputs": [
      {
       "html": [
        "<canvas id=\"ex4\"></canvas>\n",
        "<script>\n",
        "var g = document.querySelector('#ex4').getContext('2d');\n",
        "g.canvas.width = 200;\n",
        "g.canvas.height = 200;\n",
        "\n",
        "var im = g.getImageData(0, 0, g.canvas.width, g.canvas.height);\n",
        "\n",
        "var shader = function(x, y){\n",
        "    return Math.sin(x * Math.PI * 5);\n",
        "}\n",
        "\n",
        "var render = function(){\n",
        "    for(var iy = 0; iy < g.canvas.height; iy++){\n",
        "        var fy = iy / (g.canvas.height - 1);\n",
        "        for(var ix = 0; ix < g.canvas.width; ix++){\n",
        "            var i = iy * g.canvas.width + ix;\n",
        "            var fx = ix / (g.canvas.width - 1);\n",
        "            var c = shader(fx, fy);\n",
        "            im.data[4*i+0] = Math.floor(255 * c);\n",
        "            im.data[4*i+1] = Math.floor(255 * c);\n",
        "            im.data[4*i+2] = Math.floor(255 * c);\n",
        "            im.data[4*i+3] = 255;\n",
        "        }\n",
        "    }\n",
        "    g.putImageData(im, 0, 0);\n",
        "}\n",
        "render();\n",
        "</script>"
       ],
       "metadata": {},
       "output_type": "display_data",
       "text": [
        "<IPython.core.display.HTML at 0x109153cd0>"
       ]
      }
     ],
     "prompt_number": 39
    },
    {
     "cell_type": "code",
     "collapsed": false,
     "input": [],
     "language": "python",
     "metadata": {},
     "outputs": []
    }
   ],
   "metadata": {}
  }
 ]
}