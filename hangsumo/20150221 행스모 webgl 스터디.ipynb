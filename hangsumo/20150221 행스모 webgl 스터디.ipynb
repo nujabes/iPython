{
 "metadata": {
  "name": "",
  "signature": "sha256:6aa68cfaf84085d0ee69e3c177e23c4e0da3d43c295368c83703c7626ab9b49e"
 },
 "nbformat": 3,
 "nbformat_minor": 0,
 "worksheets": [
  {
   "cells": [
    {
     "cell_type": "markdown",
     "metadata": {},
     "source": [
      "# 20150221 \ud589\uc2a4\ubaa8 webgl \uc2a4\ud130\ub514"
     ]
    },
    {
     "cell_type": "markdown",
     "metadata": {},
     "source": [
      "\uc9c0\ub09c\uc8fc\uc5d0 \ud588\ub358 javascript\ub85c shader function \uad6c\ud604\ud558\uae30\uc5d0\uc11c \uc2dc\uc791\ud569\ub2c8\ub2e4."
     ]
    },
    {
     "cell_type": "code",
     "collapsed": false,
     "input": [
      "%%html\n",
      "<canvas id=\"ex4\"></canvas>\n",
      "<script>\n",
      "var g = document.querySelector('#ex4').getContext('2d');\n",
      "g.canvas.width = 200;\n",
      "g.canvas.height = 200;\n",
      "\n",
      "var im = g.getImageData(0, 0, g.canvas.width, g.canvas.height);\n",
      "\n",
      "var shader = function(x, y){\n",
      "    return Math.sin(x * Math.PI * 5);\n",
      "}\n",
      "\n",
      "var render = function(){\n",
      "    for(var iy = 0; iy < g.canvas.height; iy++){\n",
      "        var fy = iy / (g.canvas.height - 1);\n",
      "        for(var ix = 0; ix < g.canvas.width; ix++){\n",
      "            var i = iy * g.canvas.width + ix;\n",
      "            var fx = ix / (g.canvas.width - 1);\n",
      "            var c = shader(fx, fy);\n",
      "            im.data[4*i+0] = Math.floor(255 * c);\n",
      "            im.data[4*i+1] = Math.floor(255 * c);\n",
      "            im.data[4*i+2] = Math.floor(255 * c);\n",
      "            im.data[4*i+3] = 255;\n",
      "        }\n",
      "    }\n",
      "    g.putImageData(im, 0, 0);\n",
      "}\n",
      "render();\n",
      "</script>"
     ],
     "language": "python",
     "metadata": {},
     "outputs": [
      {
       "html": [
        "<canvas id=\"ex4\"></canvas>\n",
        "<script>\n",
        "var g = document.querySelector('#ex4').getContext('2d');\n",
        "g.canvas.width = 200;\n",
        "g.canvas.height = 200;\n",
        "\n",
        "var im = g.getImageData(0, 0, g.canvas.width, g.canvas.height);\n",
        "\n",
        "var shader = function(x, y){\n",
        "    return Math.sin(x * Math.PI * 5);\n",
        "}\n",
        "\n",
        "var render = function(){\n",
        "    for(var iy = 0; iy < g.canvas.height; iy++){\n",
        "        var fy = iy / (g.canvas.height - 1);\n",
        "        for(var ix = 0; ix < g.canvas.width; ix++){\n",
        "            var i = iy * g.canvas.width + ix;\n",
        "            var fx = ix / (g.canvas.width - 1);\n",
        "            var c = shader(fx, fy);\n",
        "            im.data[4*i+0] = Math.floor(255 * c);\n",
        "            im.data[4*i+1] = Math.floor(255 * c);\n",
        "            im.data[4*i+2] = Math.floor(255 * c);\n",
        "            im.data[4*i+3] = 255;\n",
        "        }\n",
        "    }\n",
        "    g.putImageData(im, 0, 0);\n",
        "}\n",
        "render();\n",
        "</script>"
       ],
       "metadata": {},
       "output_type": "display_data",
       "text": [
        "<IPython.core.display.HTML at 0x10d550dd0>"
       ]
      }
     ],
     "prompt_number": 1
    },
    {
     "cell_type": "markdown",
     "metadata": {},
     "source": [
      "\uc624\ub298 shader\ud568\uc218 \ubd80\ubd84\uc744 \ubcc0\ud615\ud558\uac8c \ub420 \ud150\ub370, \uc911\ubcf5\ub418\ub294 \ucf54\ub4dc\ub97c \ubbf8\ub9ac \uc774\ubd80\ubd84\uc5d0 \uc120\uc5b8\ud574 \ub193\uc558\uc2b5\ub2c8\ub2e4.  \n",
      "render\ud568\uc218\ub294 g\uc640 im\uc744 \ud544\uc694\ub85c \ud568\uc73c\ub85c g, im\uc744 \uc778\uc218\ub85c \ubc1b\uac8c \ucc98\ub9ac\ud588\uc2b5\ub2c8\ub2e4.  \n",
      "\uac01 \uc2a4\ud06c\ub9bd\ud2b8\ub9c8\ub2e4 getContext\ub97c \ub9cc\ub4e4\uace0 \uc774\ub97c \uacf5\ud1b5\uc801\uc73c\ub85c \ucc98\ub9ac\ud558\uae30 \uc704\ud574 gid \ud568\uc218\ub97c \ub9cc\ub4e0\uc5c8\uc2b5\ub2c8\ub2e4."
     ]
    },
    {
     "cell_type": "code",
     "collapsed": false,
     "input": [
      "%%html\n",
      "<script>\n",
      "var gid = function(g){\n",
      "    g.canvas.width = 200;\n",
      "    g.canvas.height = 200;\n",
      "    return g.getImageData(0, 0, g.canvas.width, g.canvas.height);\n",
      "}\n",
      "var render = function(g, im){\n",
      "    for(var iy = 0; iy < g.canvas.height; iy++){\n",
      "        var fy = iy / (g.canvas.height - 1);\n",
      "        for(var ix = 0; ix < g.canvas.width; ix++){\n",
      "            var i = iy * g.canvas.width + ix;\n",
      "            var fx = ix / (g.canvas.width - 1);\n",
      "            var c = shader(fx, fy);\n",
      "            im.data[4*i+0] = Math.floor(255 * c);\n",
      "            im.data[4*i+1] = Math.floor(255 * c);\n",
      "            im.data[4*i+2] = Math.floor(255 * c);\n",
      "            im.data[4*i+3] = 255;\n",
      "        }\n",
      "    }\n",
      "    g.putImageData(im, 0, 0);\n",
      "}\n",
      "\n",
      "var distance = function(x, y){\n",
      "    return Math.sqrt(Math.pow(0 - x, 2) + Math.pow(0 - y, 2));\n",
      "}\n",
      "\n",
      "var clamp = function(x, vmin, vmax) {\n",
      "    if (x < vmin) x = vmin;\n",
      "    else if (x > vmax)  x = vmax;\n",
      "    return x;\n",
      "};\n",
      "\n",
      "var smoothStep = function(edge0, edge1, x){\n",
      "    d = (x - edge0)/ (edge1 - edge0);\n",
      "    d = clamp(d, 0.0, 1.0);\n",
      "    d = d * d * (3.0 - 2.0 * d);\n",
      "    return d;\n",
      "}\n",
      "\n",
      "\n",
      "</script>"
     ],
     "language": "python",
     "metadata": {},
     "outputs": [
      {
       "html": [
        "<script>\n",
        "var gid = function(g){\n",
        "    g.canvas.width = 200;\n",
        "    g.canvas.height = 200;\n",
        "    return g.getImageData(0, 0, g.canvas.width, g.canvas.height);\n",
        "}\n",
        "var render = function(g, im){\n",
        "    for(var iy = 0; iy < g.canvas.height; iy++){\n",
        "        var fy = iy / (g.canvas.height - 1);\n",
        "        for(var ix = 0; ix < g.canvas.width; ix++){\n",
        "            var i = iy * g.canvas.width + ix;\n",
        "            var fx = ix / (g.canvas.width - 1);\n",
        "            var c = shader(fx, fy);\n",
        "            im.data[4*i+0] = Math.floor(255 * c);\n",
        "            im.data[4*i+1] = Math.floor(255 * c);\n",
        "            im.data[4*i+2] = Math.floor(255 * c);\n",
        "            im.data[4*i+3] = 255;\n",
        "        }\n",
        "    }\n",
        "    g.putImageData(im, 0, 0);\n",
        "}\n",
        "\n",
        "var distance = function(x, y){\n",
        "    return Math.sqrt(Math.pow(0 - x, 2) + Math.pow(0 - y, 2));\n",
        "}\n",
        "\n",
        "var clamp = function(x, vmin, vmax) {\n",
        "    if (x < vmin) x = vmin;\n",
        "    else if (x > vmax)  x = vmax;\n",
        "    return x;\n",
        "};\n",
        "\n",
        "var smoothStep = function(edge0, edge1, x){\n",
        "    d = (x - edge0)/ (edge1 - edge0);\n",
        "    d = clamp(d, 0.0, 1.0);\n",
        "    d = d * d * (3.0 - 2.0 * d);\n",
        "    return d;\n",
        "}\n",
        "\n",
        "\n",
        "</script>"
       ],
       "metadata": {},
       "output_type": "display_data",
       "text": [
        "<IPython.core.display.HTML at 0x10d562050>"
       ]
      }
     ],
     "prompt_number": 2
    },
    {
     "cell_type": "code",
     "collapsed": false,
     "input": [
      "%%html\n",
      "<canvas id=\"ex5\"></canvas>\n",
      "<script>\n",
      "var g = document.querySelector('#ex5').getContext('2d');\n",
      "var im = gid(g);\n",
      "\n",
      "var shader = function(x, y){\n",
      "    x = 2.0 * x - 1.0;\n",
      "    y = 2.0 * y - 1.0;\n",
      "    d = Math.sqrt(Math.pow(0 - x, 2) - Math.pow(0 - y, 2));\n",
      "    \n",
      "    return d;\n",
      "}\n",
      "\n",
      "render(g, im);\n",
      "</script>"
     ],
     "language": "python",
     "metadata": {},
     "outputs": [
      {
       "html": [
        "<canvas id=\"ex5\"></canvas>\n",
        "<script>\n",
        "var g = document.querySelector('#ex5').getContext('2d');\n",
        "var im = gid(g);\n",
        "\n",
        "var shader = function(x, y){\n",
        "    x = 2.0 * x - 1.0;\n",
        "    y = 2.0 * y - 1.0;\n",
        "    d = Math.sqrt(Math.pow(0 - x, 2) - Math.pow(0 - y, 2));\n",
        "    \n",
        "    return d;\n",
        "}\n",
        "\n",
        "render(g, im);\n",
        "</script>"
       ],
       "metadata": {},
       "output_type": "display_data",
       "text": [
        "<IPython.core.display.HTML at 0x10d550f90>"
       ]
      }
     ],
     "prompt_number": 3
    },
    {
     "cell_type": "code",
     "collapsed": false,
     "input": [
      "%%html\n",
      "<canvas id=\"ex6\"></canvas>\n",
      "<script>\n",
      "var g = document.querySelector('#ex6').getContext('2d');\n",
      "var im = gid(g);\n",
      "\n",
      "var shader = function(x, y){\n",
      "    x = 2.0 * x - 1.0;\n",
      "    y = 2.0 * y - 1.0;\n",
      "    d = distance(x, y);\n",
      "    \n",
      "    return d;\n",
      "}\n",
      "\n",
      "render(g, im);\n",
      "\n",
      "</script>"
     ],
     "language": "python",
     "metadata": {},
     "outputs": [
      {
       "html": [
        "<canvas id=\"ex6\"></canvas>\n",
        "<script>\n",
        "var g = document.querySelector('#ex6').getContext('2d');\n",
        "var im = gid(g);\n",
        "\n",
        "var shader = function(x, y){\n",
        "    x = 2.0 * x - 1.0;\n",
        "    y = 2.0 * y - 1.0;\n",
        "    d = distance(x, y);\n",
        "    \n",
        "    return d;\n",
        "}\n",
        "\n",
        "render(g, im);\n",
        "\n",
        "</script>"
       ],
       "metadata": {},
       "output_type": "display_data",
       "text": [
        "<IPython.core.display.HTML at 0x10d550f50>"
       ]
      }
     ],
     "prompt_number": 4
    },
    {
     "cell_type": "code",
     "collapsed": false,
     "input": [
      "%%html\n",
      "<canvas id=\"ex7\"></canvas>\n",
      "<script>\n",
      "var g = document.querySelector('#ex7').getContext('2d');\n",
      "var im = gid(g);\n",
      "\n",
      "var shader = function(x, y){\n",
      "    x = 2.0 * x - 1.0;\n",
      "    y = 2.0 * y - 1.0;\n",
      "    d = distance(x, y);\n",
      "    if ( d > 0.5 ) d = 1.0;\n",
      "    else d = 0.0;\n",
      "    return d;\n",
      "}\n",
      "\n",
      "render(g, im);\n",
      "</script>"
     ],
     "language": "python",
     "metadata": {},
     "outputs": [
      {
       "html": [
        "<canvas id=\"ex7\"></canvas>\n",
        "<script>\n",
        "var g = document.querySelector('#ex7').getContext('2d');\n",
        "var im = gid(g);\n",
        "\n",
        "var shader = function(x, y){\n",
        "    x = 2.0 * x - 1.0;\n",
        "    y = 2.0 * y - 1.0;\n",
        "    d = distance(x, y);\n",
        "    if ( d > 0.5 ) d = 1.0;\n",
        "    else d = 0.0;\n",
        "    return d;\n",
        "}\n",
        "\n",
        "render(g, im);\n",
        "</script>"
       ],
       "metadata": {},
       "output_type": "display_data",
       "text": [
        "<IPython.core.display.HTML at 0x10d562310>"
       ]
      }
     ],
     "prompt_number": 5
    },
    {
     "cell_type": "code",
     "collapsed": false,
     "input": [
      "%%html\n",
      "<canvas id=\"ex8\"></canvas>\n",
      "<script>\n",
      "var g = document.querySelector('#ex8').getContext('2d');\n",
      "var im = gid(g);\n",
      "\n",
      "var shader = function(x, y){\n",
      "    x = 2.0 * x - 1.0;\n",
      "    y = 2.0 * y - 1.0;\n",
      "    d = distance(x, y);\n",
      "    d = smoothStep(0.5, 1.0, d);\n",
      "    return d;\n",
      "}\n",
      "\n",
      "render(g, im);\n",
      "</script>"
     ],
     "language": "python",
     "metadata": {},
     "outputs": [
      {
       "html": [
        "<canvas id=\"ex8\"></canvas>\n",
        "<script>\n",
        "var g = document.querySelector('#ex8').getContext('2d');\n",
        "var im = gid(g);\n",
        "\n",
        "var shader = function(x, y){\n",
        "    x = 2.0 * x - 1.0;\n",
        "    y = 2.0 * y - 1.0;\n",
        "    d = distance(x, y);\n",
        "    d = smoothStep(0.5, 1.0, d);\n",
        "    return d;\n",
        "}\n",
        "\n",
        "render(g, im);\n",
        "</script>"
       ],
       "metadata": {},
       "output_type": "display_data",
       "text": [
        "<IPython.core.display.HTML at 0x10d5620d0>"
       ]
      }
     ],
     "prompt_number": 6
    }
   ],
   "metadata": {}
  }
 ]
}