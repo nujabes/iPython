{
 "cells": [
  {
   "cell_type": "markdown",
   "metadata": {},
   "source": [
    "# 20150221 행스모 webgl 스터디"
   ]
  },
  {
   "cell_type": "markdown",
   "metadata": {},
   "source": [
    "지난주에 했던 javascript로 shader function 구현하기에서 시작합니다."
   ]
  },
  {
   "cell_type": "code",
   "execution_count": 1,
   "metadata": {
    "collapsed": false
   },
   "outputs": [
    {
     "data": {
      "text/html": [
       "<canvas id=\"ex4\"></canvas>\n",
       "<script>\n",
       "var g = document.querySelector('#ex4').getContext('2d');\n",
       "g.canvas.width = 200;\n",
       "g.canvas.height = 200;\n",
       "\n",
       "var im = g.getImageData(0, 0, g.canvas.width, g.canvas.height);\n",
       "\n",
       "var shader = function(x, y){\n",
       "    return Math.sin(x * Math.PI * 5);\n",
       "}\n",
       "\n",
       "var render = function(){\n",
       "    for(var iy = 0; iy < g.canvas.height; iy++){\n",
       "        var fy = iy / (g.canvas.height - 1);\n",
       "        for(var ix = 0; ix < g.canvas.width; ix++){\n",
       "            var i = iy * g.canvas.width + ix;\n",
       "            var fx = ix / (g.canvas.width - 1);\n",
       "            var c = shader(fx, fy);\n",
       "            im.data[4*i+0] = Math.floor(255 * c);\n",
       "            im.data[4*i+1] = Math.floor(255 * c);\n",
       "            im.data[4*i+2] = Math.floor(255 * c);\n",
       "            im.data[4*i+3] = 255;\n",
       "        }\n",
       "    }\n",
       "    g.putImageData(im, 0, 0);\n",
       "}\n",
       "render();\n",
       "</script>"
      ],
      "text/plain": [
       "<IPython.core.display.HTML object>"
      ]
     },
     "metadata": {},
     "output_type": "display_data"
    }
   ],
   "source": [
    "%%html\n",
    "<canvas id=\"ex4\"></canvas>\n",
    "<script>\n",
    "var g = document.querySelector('#ex4').getContext('2d');\n",
    "g.canvas.width = 200;\n",
    "g.canvas.height = 200;\n",
    "\n",
    "var im = g.getImageData(0, 0, g.canvas.width, g.canvas.height);\n",
    "\n",
    "var shader = function(x, y){\n",
    "    return Math.sin(x * Math.PI * 5);\n",
    "}\n",
    "\n",
    "var render = function(){\n",
    "    for(var iy = 0; iy < g.canvas.height; iy++){\n",
    "        var fy = iy / (g.canvas.height - 1);\n",
    "        for(var ix = 0; ix < g.canvas.width; ix++){\n",
    "            var i = iy * g.canvas.width + ix;\n",
    "            var fx = ix / (g.canvas.width - 1);\n",
    "            var c = shader(fx, fy);\n",
    "            im.data[4*i+0] = Math.floor(255 * c);\n",
    "            im.data[4*i+1] = Math.floor(255 * c);\n",
    "            im.data[4*i+2] = Math.floor(255 * c);\n",
    "            im.data[4*i+3] = 255;\n",
    "        }\n",
    "    }\n",
    "    g.putImageData(im, 0, 0);\n",
    "}\n",
    "render();\n",
    "</script>"
   ]
  },
  {
   "cell_type": "markdown",
   "metadata": {},
   "source": [
    "오늘 shader함수 부분을 변형하게 될 텐데, 중복되는 코드를 미리 이부분에 선언해 놓았습니다.  \n",
    "render함수는 g와 im을 필요로 함으로 g, im을 인수로 받게 처리했습니다.  \n",
    "각 스크립트마다 getContext를 만들고 이를 공통적으로 처리하기 위해 gid 함수를 만든었습니다."
   ]
  },
  {
   "cell_type": "code",
   "execution_count": 2,
   "metadata": {
    "collapsed": false
   },
   "outputs": [
    {
     "data": {
      "text/html": [
       "<script>\n",
       "var gid = function(g){\n",
       "    g.canvas.width = 200;\n",
       "    g.canvas.height = 200;\n",
       "    return g.getImageData(0, 0, g.canvas.width, g.canvas.height);\n",
       "}\n",
       "var render = function(g, im){\n",
       "    for(var iy = 0; iy < g.canvas.height; iy++){\n",
       "        var fy = iy / (g.canvas.height - 1);\n",
       "        for(var ix = 0; ix < g.canvas.width; ix++){\n",
       "            var i = iy * g.canvas.width + ix;\n",
       "            var fx = ix / (g.canvas.width - 1);\n",
       "            var c = shader(fx, fy);\n",
       "            im.data[4*i+0] = Math.floor(255 * c);\n",
       "            im.data[4*i+1] = Math.floor(255 * c);\n",
       "            im.data[4*i+2] = Math.floor(255 * c);\n",
       "            im.data[4*i+3] = 255;\n",
       "        }\n",
       "    }\n",
       "    g.putImageData(im, 0, 0);\n",
       "}\n",
       "\n",
       "var distance = function(x, y){\n",
       "    return Math.sqrt(Math.pow(0 - x, 2) + Math.pow(0 - y, 2));\n",
       "}\n",
       "\n",
       "var clamp = function(x, vmin, vmax) {\n",
       "    if (x < vmin) x = 0.0;\n",
       "    else if (x > vmax)  x = 1.0;\n",
       "    return x;\n",
       "};\n",
       "\n",
       "var smoothStep = function(edge0, edge1, x){\n",
       "    d = (x - edge0)/ (edge1 - edge0);\n",
       "    d = clamp(d, 0.0, 1.0);\n",
       "    d = d * d * (3.0 - 2.0 * d);\n",
       "    return d;\n",
       "}\n",
       "\n",
       "\n",
       "</script>"
      ],
      "text/plain": [
       "<IPython.core.display.HTML object>"
      ]
     },
     "metadata": {},
     "output_type": "display_data"
    }
   ],
   "source": [
    "%%html\n",
    "<script>\n",
    "var gid = function(g){\n",
    "    g.canvas.width = 200;\n",
    "    g.canvas.height = 200;\n",
    "    return g.getImageData(0, 0, g.canvas.width, g.canvas.height);\n",
    "}\n",
    "var render = function(g, im){\n",
    "    for(var iy = 0; iy < g.canvas.height; iy++){\n",
    "        var fy = iy / (g.canvas.height - 1);\n",
    "        for(var ix = 0; ix < g.canvas.width; ix++){\n",
    "            var i = iy * g.canvas.width + ix;\n",
    "            var fx = ix / (g.canvas.width - 1);\n",
    "            var c = shader(fx, fy);\n",
    "            im.data[4*i+0] = Math.floor(255 * c);\n",
    "            im.data[4*i+1] = Math.floor(255 * c);\n",
    "            im.data[4*i+2] = Math.floor(255 * c);\n",
    "            im.data[4*i+3] = 255;\n",
    "        }\n",
    "    }\n",
    "    g.putImageData(im, 0, 0);\n",
    "}\n",
    "\n",
    "var distance = function(x, y){\n",
    "    return Math.sqrt(Math.pow(0 - x, 2) + Math.pow(0 - y, 2));\n",
    "}\n",
    "\n",
    "var clamp = function(x, vmin, vmax) {\n",
    "    if (x < vmin) x = 0.0;\n",
    "    else if (x > vmax)  x = 1.0;\n",
    "    return x;\n",
    "};\n",
    "\n",
    "var smoothStep = function(edge0, edge1, x){\n",
    "    d = (x - edge0)/ (edge1 - edge0);\n",
    "    d = clamp(d, 0.0, 1.0);\n",
    "    d = d * d * (3.0 - 2.0 * d);\n",
    "    return d;\n",
    "}\n",
    "\n",
    "\n",
    "</script>"
   ]
  },
  {
   "cell_type": "code",
   "execution_count": 3,
   "metadata": {
    "collapsed": false
   },
   "outputs": [
    {
     "data": {
      "text/html": [
       "<canvas id=\"ex5\"></canvas>\n",
       "<script>\n",
       "var g = document.querySelector('#ex5').getContext('2d');\n",
       "var im = gid(g);\n",
       "\n",
       "var shader = function(x, y){\n",
       "    x = 2.0 * x - 1.0;\n",
       "    y = 2.0 * y - 1.0;\n",
       "    d = Math.sqrt(Math.pow(0 - x, 2) - Math.pow(0 - y, 2));\n",
       "    \n",
       "    return d;\n",
       "}\n",
       "\n",
       "render(g, im);\n",
       "</script>"
      ],
      "text/plain": [
       "<IPython.core.display.HTML object>"
      ]
     },
     "metadata": {},
     "output_type": "display_data"
    }
   ],
   "source": [
    "%%html\n",
    "<canvas id=\"ex5\"></canvas>\n",
    "<script>\n",
    "var g = document.querySelector('#ex5').getContext('2d');\n",
    "var im = gid(g);\n",
    "\n",
    "var shader = function(x, y){\n",
    "    x = 2.0 * x - 1.0;\n",
    "    y = 2.0 * y - 1.0;\n",
    "    d = Math.sqrt(Math.pow(0 - x, 2) - Math.pow(0 - y, 2));\n",
    "    \n",
    "    return d;\n",
    "}\n",
    "\n",
    "render(g, im);\n",
    "</script>"
   ]
  },
  {
   "cell_type": "code",
   "execution_count": 4,
   "metadata": {
    "collapsed": false
   },
   "outputs": [
    {
     "data": {
      "text/html": [
       "<canvas id=\"ex6\"></canvas>\n",
       "<script>\n",
       "var g = document.querySelector('#ex6').getContext('2d');\n",
       "var im = gid(g);\n",
       "\n",
       "var shader = function(x, y){\n",
       "    x = 2.0 * x - 1.0;\n",
       "    y = 2.0 * y - 1.0;\n",
       "    d = distance(x, y);\n",
       "    \n",
       "    return d;\n",
       "}\n",
       "\n",
       "render(g, im);\n",
       "\n",
       "</script>"
      ],
      "text/plain": [
       "<IPython.core.display.HTML object>"
      ]
     },
     "metadata": {},
     "output_type": "display_data"
    }
   ],
   "source": [
    "%%html\n",
    "<canvas id=\"ex6\"></canvas>\n",
    "<script>\n",
    "var g = document.querySelector('#ex6').getContext('2d');\n",
    "var im = gid(g);\n",
    "\n",
    "var shader = function(x, y){\n",
    "    x = 2.0 * x - 1.0;\n",
    "    y = 2.0 * y - 1.0;\n",
    "    d = distance(x, y);\n",
    "    \n",
    "    return d;\n",
    "}\n",
    "\n",
    "render(g, im);\n",
    "\n",
    "</script>"
   ]
  },
  {
   "cell_type": "code",
   "execution_count": 5,
   "metadata": {
    "collapsed": false
   },
   "outputs": [
    {
     "data": {
      "text/html": [
       "<canvas id=\"ex7\"></canvas>\n",
       "<script>\n",
       "var g = document.querySelector('#ex7').getContext('2d');\n",
       "var im = gid(g);\n",
       "\n",
       "var shader = function(x, y){\n",
       "    x = 2.0 * x - 1.0;\n",
       "    y = 2.0 * y - 1.0;\n",
       "    d = distance(x, y);\n",
       "    if ( d > 0.5 ) d = 1.0;\n",
       "    else d = 0.0;\n",
       "    return d;\n",
       "}\n",
       "\n",
       "render(g, im);\n",
       "</script>"
      ],
      "text/plain": [
       "<IPython.core.display.HTML object>"
      ]
     },
     "metadata": {},
     "output_type": "display_data"
    }
   ],
   "source": [
    "%%html\n",
    "<canvas id=\"ex7\"></canvas>\n",
    "<script>\n",
    "var g = document.querySelector('#ex7').getContext('2d');\n",
    "var im = gid(g);\n",
    "\n",
    "var shader = function(x, y){\n",
    "    x = 2.0 * x - 1.0;\n",
    "    y = 2.0 * y - 1.0;\n",
    "    d = distance(x, y);\n",
    "    if ( d > 0.5 ) d = 1.0;\n",
    "    else d = 0.0;\n",
    "    return d;\n",
    "}\n",
    "\n",
    "render(g, im);\n",
    "</script>"
   ]
  },
  {
   "cell_type": "code",
   "execution_count": 6,
   "metadata": {
    "collapsed": false
   },
   "outputs": [
    {
     "data": {
      "text/html": [
       "<canvas id=\"ex8\"></canvas>\n",
       "<script>\n",
       "var g = document.querySelector('#ex8').getContext('2d');\n",
       "var im = gid(g);\n",
       "\n",
       "var clamp = function(x, vmin, vmax) {\n",
       "    if (x < vmin) x = vmin;\n",
       "    else if (x > vmax)  x = vmax;\n",
       "    return x;\n",
       "};\n",
       "\n",
       "\n",
       "var smoothStep = function(edge0, edge1, x){\n",
       "    d = (x - edge0)/ (edge1 - edge0);\n",
       "    d = clamp(d, 0.0, 1.0);\n",
       "    d = d * d * (3.0 - 2.0 * d);\n",
       "    return d;\n",
       "}\n",
       "\n",
       "var shader = function(x, y){\n",
       "    x = 2.0 * x - 1.0;\n",
       "    y = 2.0 * y - 1.0;\n",
       "    d = distance(x, y);\n",
       "    d = smoothStep(0.5, 1.0, d);\n",
       "    return d;\n",
       "}\n",
       "\n",
       "render(g, im);\n",
       "</script>"
      ],
      "text/plain": [
       "<IPython.core.display.HTML object>"
      ]
     },
     "metadata": {},
     "output_type": "display_data"
    }
   ],
   "source": [
    "%%html\n",
    "<canvas id=\"ex8\"></canvas>\n",
    "<script>\n",
    "var g = document.querySelector('#ex8').getContext('2d');\n",
    "var im = gid(g);\n",
    "\n",
    "var clamp = function(x, vmin, vmax) {\n",
    "    if (x < vmin) x = vmin;\n",
    "    else if (x > vmax)  x = vmax;\n",
    "    return x;\n",
    "};\n",
    "\n",
    "\n",
    "var smoothStep = function(edge0, edge1, x){\n",
    "    d = (x - edge0)/ (edge1 - edge0);\n",
    "    d = clamp(d, 0.0, 1.0);\n",
    "    d = d * d * (3.0 - 2.0 * d);\n",
    "    return d;\n",
    "}\n",
    "\n",
    "var shader = function(x, y){\n",
    "    x = 2.0 * x - 1.0;\n",
    "    y = 2.0 * y - 1.0;\n",
    "    d = distance(x, y);\n",
    "    d = smoothStep(0.5, 1.0, d);\n",
    "    return d;\n",
    "}\n",
    "\n",
    "render(g, im);\n",
    "</script>"
   ]
  }
 ],
 "metadata": {
  "language_info": {
   "codemirror_mode": {
    "name": "ipython",
    "version": 2
   },
   "file_extension": ".py",
   "mimetype": "text/x-python",
   "name": "python",
   "nbconvert_exporter": "python",
   "pygments_lexer": "ipython2",
   "version": "2.7.9"
  }
 },
 "nbformat": 4,
 "nbformat_minor": 0
}
