{
 "metadata": {
  "name": "",
  "signature": "sha256:685b1f8084013519852555719321faf601c7c8ccd733875787fcf06a84f37d02"
 },
 "nbformat": 3,
 "nbformat_minor": 0,
 "worksheets": [
  {
   "cells": [
    {
     "cell_type": "markdown",
     "metadata": {},
     "source": [
      "# 20150221 \ud589\uc2a4\ubaa8 webgl \uc2a4\ud130\ub514"
     ]
    },
    {
     "cell_type": "markdown",
     "metadata": {},
     "source": [
      "\uc9c0\ub09c\uc8fc\uc5d0 \ud588\ub358 javascript\uc5d0\uc11c shader\ud568\uc218\ub97c \uad6c\ud604\ud574 \ubcf8 \uac83"
     ]
    },
    {
     "cell_type": "code",
     "collapsed": false,
     "input": [
      "%%html\n",
      "<script>\n",
      "var gid = function(g){\n",
      "    g.canvas.width = 200;\n",
      "    g.canvas.height = 200;\n",
      "    return g.getImageData(0, 0, g.canvas.width, g.canvas.height);\n",
      "}\n",
      "var render = function(g, im){\n",
      "    for(var iy = 0; iy < g.canvas.height; iy++){\n",
      "        var fy = iy / (g.canvas.height - 1);\n",
      "        for(var ix = 0; ix < g.canvas.width; ix++){\n",
      "            var i = iy * g.canvas.width + ix;\n",
      "            var fx = ix / (g.canvas.width - 1);\n",
      "            var c = shader(fx, fy);\n",
      "            im.data[4*i+0] = Math.floor(255 * c);\n",
      "            im.data[4*i+1] = Math.floor(255 * c);\n",
      "            im.data[4*i+2] = Math.floor(255 * c);\n",
      "            im.data[4*i+3] = 255;\n",
      "        }\n",
      "    }\n",
      "    g.putImageData(im, 0, 0);\n",
      "}\n",
      "\n",
      "var distance = function(x, y){\n",
      "    return Math.sqrt(Math.pow(0 - x, 2) + Math.pow(0 - y, 2));\n",
      "}\n",
      "\n",
      "var clamp = function(x, vmin, vmax) {\n",
      "    if (x < vmin) x = vmin;\n",
      "    else if (x > vmax)  x = vmax;\n",
      "    return x;\n",
      "};\n",
      "\n",
      "var smoothStep = function(edge0, edge1, x){\n",
      "    d = (x - edge0)/ (edge1 - edge0);\n",
      "    d = clamp(d, 0.0, 1.0);\n",
      "    d = d * d * (3.0 - 2.0 * d);\n",
      "    return d;\n",
      "}\n",
      "\n",
      "\n",
      "</script>"
     ],
     "language": "python",
     "metadata": {},
     "outputs": [
      {
       "html": [
        "<script>\n",
        "var gid = function(g){\n",
        "    g.canvas.width = 200;\n",
        "    g.canvas.height = 200;\n",
        "    return g.getImageData(0, 0, g.canvas.width, g.canvas.height);\n",
        "}\n",
        "var render = function(g, im){\n",
        "    for(var iy = 0; iy < g.canvas.height; iy++){\n",
        "        var fy = iy / (g.canvas.height - 1);\n",
        "        for(var ix = 0; ix < g.canvas.width; ix++){\n",
        "            var i = iy * g.canvas.width + ix;\n",
        "            var fx = ix / (g.canvas.width - 1);\n",
        "            var c = shader(fx, fy);\n",
        "            im.data[4*i+0] = Math.floor(255 * c);\n",
        "            im.data[4*i+1] = Math.floor(255 * c);\n",
        "            im.data[4*i+2] = Math.floor(255 * c);\n",
        "            im.data[4*i+3] = 255;\n",
        "        }\n",
        "    }\n",
        "    g.putImageData(im, 0, 0);\n",
        "}\n",
        "\n",
        "var distance = function(x, y){\n",
        "    return Math.sqrt(Math.pow(0 - x, 2) + Math.pow(0 - y, 2));\n",
        "}\n",
        "\n",
        "var clamp = function(x, vmin, vmax) {\n",
        "    if (x < vmin) x = vmin;\n",
        "    else if (x > vmax)  x = vmax;\n",
        "    return x;\n",
        "};\n",
        "\n",
        "var smoothStep = function(edge0, edge1, x){\n",
        "    d = (x - edge0)/ (edge1 - edge0);\n",
        "    d = clamp(d, 0.0, 1.0);\n",
        "    d = d * d * (3.0 - 2.0 * d);\n",
        "    return d;\n",
        "}\n",
        "\n",
        "\n",
        "</script>"
       ],
       "metadata": {},
       "output_type": "display_data",
       "text": [
        "<IPython.core.display.HTML at 0x111f267d0>"
       ]
      }
     ],
     "prompt_number": 15
    },
    {
     "cell_type": "code",
     "collapsed": false,
     "input": [
      "%%html\n",
      "<canvas id=\"ex4\"></canvas>\n",
      "<script>\n",
      "var g = document.querySelector('#ex4').getContext('2d');\n",
      "var im = gid(g);\n",
      "\n",
      "var shader = function(x, y){\n",
      "    return Math.sin(x * Math.PI * 5);\n",
      "}\n",
      "\n",
      "render(g, im);\n",
      "</script>"
     ],
     "language": "python",
     "metadata": {},
     "outputs": [
      {
       "html": [
        "<canvas id=\"ex4\"></canvas>\n",
        "<script>\n",
        "var g = document.querySelector('#ex4').getContext('2d');\n",
        "var im = gid(g);\n",
        "\n",
        "\n",
        "var shader = function(x, y){\n",
        "    return Math.sin(x * Math.PI * 5);\n",
        "}\n",
        "render(g, im);\n",
        "</script>"
       ],
       "metadata": {},
       "output_type": "display_data",
       "text": [
        "<IPython.core.display.HTML at 0x111f26390>"
       ]
      }
     ],
     "prompt_number": 16
    },
    {
     "cell_type": "code",
     "collapsed": false,
     "input": [
      "%%html\n",
      "<canvas id=\"ex5\"></canvas>\n",
      "<script>\n",
      "var g = document.querySelector('#ex5').getContext('2d');\n",
      "var im = gid(g);\n",
      "\n",
      "var shader = function(x, y){\n",
      "    x = 2.0 * x - 1.0;\n",
      "    y = 2.0 * y - 1.0;\n",
      "    d = Math.sqrt(Math.pow(0 - x, 2) - Math.pow(0 - y, 2));\n",
      "    \n",
      "    return d;\n",
      "}\n",
      "\n",
      "render(g, im);\n",
      "</script>"
     ],
     "language": "python",
     "metadata": {},
     "outputs": [
      {
       "html": [
        "<canvas id=\"ex5\"></canvas>\n",
        "<script>\n",
        "var g = document.querySelector('#ex5').getContext('2d');\n",
        "var im = gid(g);\n",
        "\n",
        "var shader = function(x, y){\n",
        "    x = 2.0 * x - 1.0;\n",
        "    y = 2.0 * y - 1.0;\n",
        "    d = Math.sqrt(Math.pow(0 - x, 2) - Math.pow(0 - y, 2));\n",
        "    \n",
        "    return d;\n",
        "}\n",
        "\n",
        "render(g, im);\n",
        "</script>"
       ],
       "metadata": {},
       "output_type": "display_data",
       "text": [
        "<IPython.core.display.HTML at 0x1089a4e10>"
       ]
      }
     ],
     "prompt_number": 4
    },
    {
     "cell_type": "code",
     "collapsed": false,
     "input": [
      "%%html\n",
      "<canvas id=\"ex6\"></canvas>\n",
      "<script>\n",
      "var g = document.querySelector('#ex6').getContext('2d');\n",
      "var im = gid(g);\n",
      "\n",
      "var shader = function(x, y){\n",
      "    x = 2.0 * x - 1.0;\n",
      "    y = 2.0 * y - 1.0;\n",
      "    d = distance(x, y);\n",
      "    \n",
      "    return d;\n",
      "}\n",
      "\n",
      "render(g, im);\n",
      "\n",
      "</script>"
     ],
     "language": "python",
     "metadata": {},
     "outputs": [
      {
       "html": [
        "<canvas id=\"ex6\"></canvas>\n",
        "<script>\n",
        "var g = document.querySelector('#ex6').getContext('2d');\n",
        "g.canvas.width = 200;\n",
        "g.canvas.height = 200;\n",
        "\n",
        "var shader = function(x, y){\n",
        "    x = 2.0 * x - 1.0;\n",
        "    y = 2.0 * y - 1.0;\n",
        "    d = distance(x, y);\n",
        "    \n",
        "    return d;\n",
        "}\n",
        "\n",
        "render(g, im);\n",
        "\n",
        "</script>"
       ],
       "metadata": {},
       "output_type": "display_data",
       "text": [
        "<IPython.core.display.HTML at 0x1089a4f90>"
       ]
      }
     ],
     "prompt_number": 3
    },
    {
     "cell_type": "code",
     "collapsed": false,
     "input": [
      "%%html\n",
      "<canvas id=\"ex7\"></canvas>\n",
      "<script>\n",
      "var g = document.querySelector('#ex7').getContext('2d');\n",
      "var im = gid(g);\n",
      "\n",
      "var shader = function(x, y){\n",
      "    x = 2.0 * x - 1.0;\n",
      "    y = 2.0 * y - 1.0;\n",
      "    d = distance(x, y);\n",
      "    if ( d > 0.5 ) d = 1.0;\n",
      "    else d = 0.0;\n",
      "    return d;\n",
      "}\n",
      "\n",
      "render(g, im);\n",
      "</script>"
     ],
     "language": "python",
     "metadata": {},
     "outputs": [
      {
       "html": [
        "<canvas id=\"ex7\"></canvas>\n",
        "<script>\n",
        "var g = document.querySelector('#ex7').getContext('2d');\n",
        "var im = gid(g);\n",
        "\n",
        "var shader = function(x, y){\n",
        "    x = 2.0 * x - 1.0;\n",
        "    y = 2.0 * y - 1.0;\n",
        "    d = distance(x, y);\n",
        "    if ( d > 0.5 ) d = 1.0;\n",
        "    else d = 0.0;\n",
        "    return d;\n",
        "}\n",
        "\n",
        "render(g, im);\n",
        "</script>"
       ],
       "metadata": {},
       "output_type": "display_data",
       "text": [
        "<IPython.core.display.HTML at 0x1089b62d0>"
       ]
      }
     ],
     "prompt_number": 5
    }
   ],
   "metadata": {}
  }
 ]
}