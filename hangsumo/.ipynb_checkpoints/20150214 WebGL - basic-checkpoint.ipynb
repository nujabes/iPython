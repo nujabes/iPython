{
 "metadata": {
  "name": "",
  "signature": "sha256:4e07615f9f18d6c4ff302f375def971f43a360d85872b0c078da11ea995e10f5"
 },
 "nbformat": 3,
 "nbformat_minor": 0,
 "worksheets": [
  {
   "cells": [
    {
     "cell_type": "markdown",
     "metadata": {},
     "source": [
      "# 20150214 \ud589\uc2a4\ubaa8 WebGL\uc758 \uae30\ucd08"
     ]
    },
    {
     "cell_type": "markdown",
     "metadata": {},
     "source": [
      "## WebGL\uc758 \uc6d0\ub9ac. javascript\uc5d0\uc11c shader \ud568\uc218 \uad6c\ud604\ud574 \ubcf4\uae30"
     ]
    },
    {
     "cell_type": "markdown",
     "metadata": {},
     "source": [
      "\uc544\ub798 \ucf54\ub4dc\ub294 ipython\uc0c1\uc5d0\uc11c html\ub9e4\uc9c1\uc744 \uc774\uc6a9\ud558\uc5ec html\uacfc javascript\ub97c \uc2e4\ud589\ud55c\ub2e4.  \n",
      "200x200 \uce94\ubc84\uc2a4\ub97c \ub9cc\ub4e4\uc5b4 \ub178\ub780\uc0c9\uc73c\ub85c \ucc44\uc6e0\ub2e4."
     ]
    },
    {
     "cell_type": "code",
     "collapsed": false,
     "input": [
      "%%html\n",
      "<canvas id=\"ex1\"></canvas>\n",
      "<script>\n",
      "var g = document.querySelector('#ex1').getContext('2d');\n",
      "g.canvas.width = 200;\n",
      "g.canvas.height = 200;\n",
      "\n",
      "g.fillStyle = 'yellow';\n",
      "g.fillRect(0, 0, g.canvas.width, g.canvas.height);\n",
      "</script>"
     ],
     "language": "python",
     "metadata": {},
     "outputs": [
      {
       "html": [
        "<canvas id=\"ex1\"></canvas>\n",
        "<script>\n",
        "var g = document.querySelector('#ex1').getContext('2d');\n",
        "g.canvas.width = 200;\n",
        "g.canvas.height = 200;\n",
        "\n",
        "g.fillStyle = 'yellow';\n",
        "g.fillRect(0, 0, g.canvas.width, g.canvas.height);\n",
        "</script>"
       ],
       "metadata": {},
       "output_type": "display_data",
       "text": [
        "<IPython.core.display.HTML at 0x10913c5d0>"
       ]
      }
     ],
     "prompt_number": 20
    },
    {
     "cell_type": "markdown",
     "metadata": {},
     "source": [
      "\uc544\ub798 \uc608\uc81c\ub294 \uce94\ubc84\uc2a4 \uc0c1\uc5d0\uc11c getImageData\ud568\uc218\ub97c \uc774\uc6a9\ud574 typed array\ub97c \uc0dd\uc131\ud558\uc600\ub2e4.  \n",
      "[JavaScript typed arrays - JavaScript | MDN](https://developer.mozilla.org/en-US/docs/Web/JavaScript/Typed_arrays)  \n",
      "\uc774 array\uc5d0 \ud654\uba74\uc758 \ud53d\uc140\uc744 \uad6c\uc131\ud558\uc5ec \ub9c8\ucc2c\uac00\uc9c0\ub85c \ub178\ub780\uc0c9\uc73c\ub85c \ucc44\uc6e0\ub2e4.\n"
     ]
    },
    {
     "cell_type": "code",
     "collapsed": false,
     "input": [
      "%%html\n",
      "<canvas id=\"ex2\"></canvas>\n",
      "<script>\n",
      "var g = document.querySelector('#ex2').getContext('2d');\n",
      "g.canvas.width = 200;\n",
      "g.canvas.height = 200;\n",
      "\n",
      "var im = g.getImageData(0, 0, g.canvas.width, g.canvas.height);\n",
      "var render = function(){\n",
      "    for(var iy = 0; iy < g.canvas.height; iy++){\n",
      "        for(var ix = 0; ix < g.canvas.width; ix++){\n",
      "            var i = iy * g.canvas.width + ix;\n",
      "            im.data[4*i+0] = 255;\n",
      "            im.data[4*i+1] = 0;\n",
      "            im.data[4*i+2] = 0;\n",
      "            im.data[4*i+3] = 255;\n",
      "        }\n",
      "    }\n",
      "    g.putImageData(im, 0, 0);\n",
      "}\n",
      "render();\n",
      "</script>"
     ],
     "language": "python",
     "metadata": {},
     "outputs": [
      {
       "html": [
        "<canvas id=\"ex2\"></canvas>\n",
        "<script>\n",
        "var g = document.querySelector('#ex2').getContext('2d');\n",
        "g.canvas.width = 200;\n",
        "g.canvas.height = 200;\n",
        "\n",
        "//g.fillStyle = 'yellow';\n",
        "//g.fillRect(0, 0, g.canvas.width, g.canvas.height);\n",
        "var im = g.getImageData(0, 0, g.canvas.width, g.canvas.height);\n",
        "var render = function(){\n",
        "    for(var iy = 0; iy < g.canvas.height; iy++){\n",
        "        for(var ix = 0; ix < g.canvas.width; ix++){\n",
        "            var i = iy * g.canvas.width + ix;\n",
        "            im.data[4*i+0] = 255;\n",
        "            im.data[4*i+1] = 0;\n",
        "            im.data[4*i+2] = 0;\n",
        "            im.data[4*i+3] = 255;\n",
        "        }\n",
        "    }\n",
        "    g.putImageData(im, 0, 0);\n",
        "}\n",
        "render();\n",
        "</script>"
       ],
       "metadata": {},
       "output_type": "display_data",
       "text": [
        "<IPython.core.display.HTML at 0x10913cad0>"
       ]
      }
     ],
     "prompt_number": 19
    },
    {
     "cell_type": "markdown",
     "metadata": {},
     "source": [
      "\uc704\uc758 \uc18c\uc2a4\uc5d0\uc11c fx, fy\ub77c\ub294 \ubcc0\uc218\ub97c \ub9cc\ub4e4\uc5b4 \uce94\ubc84\uc2a4\uc758 \uc88c\ud45c\ub97c 0~1\ub85c \uce58\ud658\uc2dc\ucf30\ub2e4.  \n",
      "\ub098\uc911\uc5d0 \ub098\uc624\uaca0\uc9c0\ub9cc WebGL\uc5d0\uc11c \uce94\ubc84\uc2a4\uc758 \uc88c\ud45c\ub294 0~1\uc0ac\uc774\uc774\ub2e4.  \n",
      "\uadf8\ub9ac\uace0 \uc774 0~1\uc758 \uac12\uc744 sin\ud568\uc218\uc5d0 \ub123\uc5b4 \uc544\ub798\uc640 \uac19\uc740 \ubb34\ub2ac\ub97c \ub9cc\ub4e4\uc5b4 \ub0b4\uc5c8\ub2e4.  \n",
      "shader\uac00 \ud558\ub294 \ubc29\uc2dd\uacfc \uac19\ub2e4."
     ]
    },
    {
     "cell_type": "code",
     "collapsed": false,
     "input": [
      "%%html\n",
      "<canvas id=\"ex3\"></canvas>\n",
      "<script>\n",
      "var g = document.querySelector('#ex3').getContext('2d');\n",
      "g.canvas.width = 200;\n",
      "g.canvas.height = 200;\n",
      "\n",
      "var im = g.getImageData(0, 0, g.canvas.width, g.canvas.height);\n",
      "var render = function(){\n",
      "    for(var iy = 0; iy < g.canvas.height; iy++){\n",
      "        var fy = iy / (g.canvas.height - 1);\n",
      "        for(var ix = 0; ix < g.canvas.width; ix++){\n",
      "            var i = iy * g.canvas.width + ix;\n",
      "            var fx = ix / (g.canvas.width - 1);\n",
      "                im.data[4*i+0] = Math.floor(255 * Math.sin(fx * Math.PI * 12));\n",
      "                im.data[4*i+1] = 0;\n",
      "                im.data[4*i+2] = 0;\n",
      "                im.data[4*i+3] = 255;\n",
      "            }\n",
      "        }\n",
      "        g.putImageData(im, 0, 0);\n",
      "    }\n",
      "render();\n",
      "</script>"
     ],
     "language": "python",
     "metadata": {},
     "outputs": [
      {
       "html": [
        "<canvas id=\"ex3\"></canvas>\n",
        "<script>\n",
        "var g = document.querySelector('#ex3').getContext('2d');\n",
        "g.canvas.width = 200;\n",
        "g.canvas.height = 200;\n",
        "\n",
        "//g.fillStyle = 'yellow';\n",
        "//g.fillRect(0, 0, g.canvas.width, g.canvas.height);\n",
        "var im = g.getImageData(0, 0, g.canvas.width, g.canvas.height);\n",
        "var render = function(){\n",
        "    for(var iy = 0; iy < g.canvas.height; iy++){\n",
        "        var fy = iy / (g.canvas.height - 1);\n",
        "        for(var ix = 0; ix < g.canvas.width; ix++){\n",
        "            var i = iy * g.canvas.width + ix;\n",
        "            var fx = ix / (g.canvas.width - 1);\n",
        "                im.data[4*i+0] = Math.floor(255 * Math.sin(fx * Math.PI * 12));\n",
        "                im.data[4*i+1] = 0;\n",
        "                im.data[4*i+2] = 0;\n",
        "                im.data[4*i+3] = 255;\n",
        "            }\n",
        "        }\n",
        "        g.putImageData(im, 0, 0);\n",
        "    }\n",
        "render();\n",
        "</script>"
       ],
       "metadata": {},
       "output_type": "display_data",
       "text": [
        "<IPython.core.display.HTML at 0x109153ed0>"
       ]
      }
     ],
     "prompt_number": 36
    },
    {
     "cell_type": "markdown",
     "metadata": {},
     "source": [
      "# seems like SHADING LANGUAGE"
     ]
    },
    {
     "cell_type": "markdown",
     "metadata": {},
     "source": [
      "shader \ub77c\ub294 \uc790\ubc14\uc2a4\ud06c\ub9bd\ud2b8 \ud568\uc218\ub97c \ub9cc\ub4e4\uc5b4 \uc774 \ud568\uc218\ub97c c\ub77c\ub294 \uac12\uc5d0\uc11c \ubd88\ub7ec\uc624\uace0.  \n",
      "shader \ud568\uc218 \uc0c1\uc5d0\uc11c \ub4e4\uc5b4\uc628 \ud53d\uc140 \uc88c\ud45c\ub97c \uc0ac\uc778\ud568\uc218\uc640 \uacf1\ud558\uac8c \ub9cc\ub4e4\uc5c8\ub2e4.  \n",
      "\uc774 shader\ud568\uc218\uac00 \ubc14\ub85c shader\uac00 \ud558\ub294 \ubd80\ubd84\uc744 \ub098\ud0c0\ub0b8\ub2e4."
     ]
    },
    {
     "cell_type": "code",
     "collapsed": false,
     "input": [
      "%%html\n",
      "<canvas id=\"ex4\"></canvas>\n",
      "<script>\n",
      "var g = document.querySelector('#ex4').getContext('2d');\n",
      "g.canvas.width = 200;\n",
      "g.canvas.height = 200;\n",
      "\n",
      "var im = g.getImageData(0, 0, g.canvas.width, g.canvas.height);\n",
      "\n",
      "var shader = function(x, y){\n",
      "    return Math.sin(x * Math.PI * 5);\n",
      "}\n",
      "\n",
      "var render = function(){\n",
      "    for(var iy = 0; iy < g.canvas.height; iy++){\n",
      "        var fy = iy / (g.canvas.height - 1);\n",
      "        for(var ix = 0; ix < g.canvas.width; ix++){\n",
      "            var i = iy * g.canvas.width + ix;\n",
      "            var fx = ix / (g.canvas.width - 1);\n",
      "            var c = shader(fx, fy);\n",
      "            im.data[4*i+0] = Math.floor(255 * c);\n",
      "            im.data[4*i+1] = Math.floor(255 * c);\n",
      "            im.data[4*i+2] = Math.floor(255 * c);\n",
      "            im.data[4*i+3] = 255;\n",
      "        }\n",
      "    }\n",
      "    g.putImageData(im, 0, 0);\n",
      "}\n",
      "render();\n",
      "</script>"
     ],
     "language": "python",
     "metadata": {},
     "outputs": [
      {
       "html": [
        "<canvas id=\"ex4\"></canvas>\n",
        "<script>\n",
        "var g = document.querySelector('#ex4').getContext('2d');\n",
        "g.canvas.width = 200;\n",
        "g.canvas.height = 200;\n",
        "\n",
        "var im = g.getImageData(0, 0, g.canvas.width, g.canvas.height);\n",
        "\n",
        "var shader = function(x, y){\n",
        "    return Math.sin(x * Math.PI * 5);\n",
        "}\n",
        "\n",
        "var render = function(){\n",
        "    for(var iy = 0; iy < g.canvas.height; iy++){\n",
        "        var fy = iy / (g.canvas.height - 1);\n",
        "        for(var ix = 0; ix < g.canvas.width; ix++){\n",
        "            var i = iy * g.canvas.width + ix;\n",
        "            var fx = ix / (g.canvas.width - 1);\n",
        "            var c = shader(fx, fy);\n",
        "            im.data[4*i+0] = Math.floor(255 * c);\n",
        "            im.data[4*i+1] = Math.floor(255 * c);\n",
        "            im.data[4*i+2] = Math.floor(255 * c);\n",
        "            im.data[4*i+3] = 255;\n",
        "        }\n",
        "    }\n",
        "    g.putImageData(im, 0, 0);\n",
        "}\n",
        "render();\n",
        "</script>"
       ],
       "metadata": {},
       "output_type": "display_data",
       "text": [
        "<IPython.core.display.HTML at 0x109153cd0>"
       ]
      }
     ],
     "prompt_number": 39
    },
    {
     "cell_type": "markdown",
     "metadata": {},
     "source": [
      "\uc774\ub85c\uc11c \uc790\ubc14\uc2a4\ud06c\ub9bd\ud2b8\ub85c shader\ub97c \uac04\ub2e8\ud788 \uad6c\ud604\ud574 \ubcf4\uc558\ub2e4."
     ]
    },
    {
     "cell_type": "code",
     "collapsed": false,
     "input": [],
     "language": "python",
     "metadata": {},
     "outputs": []
    }
   ],
   "metadata": {}
  }
 ]
}